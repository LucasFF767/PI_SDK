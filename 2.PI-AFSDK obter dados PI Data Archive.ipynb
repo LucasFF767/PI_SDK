{
 "cells": [
  {
   "cell_type": "markdown",
   "metadata": {},
   "source": [
    "#### Por: André S. R. Kuramoto"
   ]
  },
  {
   "cell_type": "markdown",
   "metadata": {},
   "source": [
    "# Exemplos de como obter dados do PI Data Archive"
   ]
  },
  {
   "cell_type": "code",
   "execution_count": 1,
   "metadata": {},
   "outputs": [],
   "source": [
    "import sys  \n",
    "import clr"
   ]
  },
  {
   "cell_type": "code",
   "execution_count": 2,
   "metadata": {},
   "outputs": [
    {
     "data": {
      "text/plain": [
       "<System.Reflection.RuntimeAssembly at 0x6e80898>"
      ]
     },
     "execution_count": 2,
     "metadata": {},
     "output_type": "execute_result"
    }
   ],
   "source": [
    "sys.path.append(r'C:\\\\Program Files (x86)\\\\PIPC\\\\AF\\\\PublicAssemblies\\\\4.0\\\\')  \n",
    "clr.AddReference('OSIsoft.AFSDK') "
   ]
  },
  {
   "cell_type": "code",
   "execution_count": 3,
   "metadata": {},
   "outputs": [],
   "source": [
    "from OSIsoft.AF.PI import *"
   ]
  },
  {
   "cell_type": "markdown",
   "metadata": {},
   "source": [
    "Listar os AF Servers configurados no PI SDK."
   ]
  },
  {
   "cell_type": "code",
   "execution_count": 4,
   "metadata": {},
   "outputs": [],
   "source": [
    "piservers = PIServers()"
   ]
  },
  {
   "cell_type": "code",
   "execution_count": 5,
   "metadata": {},
   "outputs": [
    {
     "name": "stdout",
     "output_type": "stream",
     "text": [
      "p28509\n",
      "p28509A\n",
      "s6005as278\n"
     ]
    }
   ],
   "source": [
    "for s in piservers:\n",
    "    print(s)"
   ]
  },
  {
   "cell_type": "markdown",
   "metadata": {},
   "source": [
    "Escolher o PI Server."
   ]
  },
  {
   "cell_type": "code",
   "execution_count": 6,
   "metadata": {},
   "outputs": [],
   "source": [
    "piserver = piservers['p28509']"
   ]
  },
  {
   "cell_type": "markdown",
   "metadata": {},
   "source": [
    "Utilizar o PI Server padrão."
   ]
  },
  {
   "cell_type": "code",
   "execution_count": 7,
   "metadata": {},
   "outputs": [],
   "source": [
    "piserver = piservers.DefaultPIServer"
   ]
  },
  {
   "cell_type": "markdown",
   "metadata": {},
   "source": [
    "Ler o valor corrente do PI Point."
   ]
  },
  {
   "cell_type": "code",
   "execution_count": 8,
   "metadata": {},
   "outputs": [],
   "source": [
    "pt = PIPoint.FindPIPoint(piserver, 'PC592216PV')"
   ]
  },
  {
   "cell_type": "code",
   "execution_count": 9,
   "metadata": {},
   "outputs": [],
   "source": [
    "current_value = pt.CurrentValue()"
   ]
  },
  {
   "cell_type": "code",
   "execution_count": 10,
   "metadata": {},
   "outputs": [
    {
     "data": {
      "text/plain": [
       "95.97535"
      ]
     },
     "execution_count": 10,
     "metadata": {},
     "output_type": "execute_result"
    }
   ],
   "source": [
    "current_value.Value"
   ]
  },
  {
   "cell_type": "markdown",
   "metadata": {},
   "source": [
    "Definir um range de tempo."
   ]
  },
  {
   "cell_type": "code",
   "execution_count": 11,
   "metadata": {},
   "outputs": [],
   "source": [
    "from OSIsoft.AF.Time import *  "
   ]
  },
  {
   "cell_type": "code",
   "execution_count": 12,
   "metadata": {},
   "outputs": [],
   "source": [
    "timerange = AFTimeRange(\"*-10m\", \"*\")  "
   ]
  },
  {
   "cell_type": "markdown",
   "metadata": {},
   "source": [
    "## Ler valores gravados no PI Data Archive"
   ]
  },
  {
   "cell_type": "code",
   "execution_count": 13,
   "metadata": {},
   "outputs": [],
   "source": [
    "from OSIsoft.AF.Data import *  "
   ]
  },
  {
   "cell_type": "code",
   "execution_count": 14,
   "metadata": {},
   "outputs": [],
   "source": [
    "recorded = pt.RecordedValues(timerange, AFBoundaryType.Inside, \"\", False)  "
   ]
  },
  {
   "cell_type": "code",
   "execution_count": 15,
   "metadata": {},
   "outputs": [
    {
     "name": "stdout",
     "output_type": "stream",
     "text": [
      "96.21068 05/08/2019 13:41:04\n",
      "96.20567 05/08/2019 13:41:34\n",
      "96.20609 05/08/2019 13:42:04\n",
      "96.20558 05/08/2019 13:42:34\n",
      "96.19765 05/08/2019 13:43:04\n",
      "96.18157 05/08/2019 13:43:34\n",
      "96.16933 05/08/2019 13:44:04\n",
      "96.16228 05/08/2019 13:44:34\n",
      "96.12222 05/08/2019 13:45:04\n",
      "96.06925 05/08/2019 13:45:34\n",
      "96.02896 05/08/2019 13:46:04\n",
      "96.00386 05/08/2019 13:46:34\n",
      "95.98132 05/08/2019 13:47:04\n",
      "95.96616 05/08/2019 13:47:34\n",
      "95.96225 05/08/2019 13:48:04\n",
      "95.96075 05/08/2019 13:48:34\n",
      "95.95976 05/08/2019 13:49:04\n",
      "95.96552 05/08/2019 13:49:34\n",
      "95.97311 05/08/2019 13:50:04\n",
      "95.97535 05/08/2019 13:50:34\n"
     ]
    }
   ],
   "source": [
    "for event in recorded:\n",
    "    print(event.Value, event.Timestamp.LocalTime)  "
   ]
  },
  {
   "cell_type": "markdown",
   "metadata": {},
   "source": [
    "## Ler valores interpolados do PI Data Archive"
   ]
  },
  {
   "cell_type": "code",
   "execution_count": 16,
   "metadata": {},
   "outputs": [],
   "source": [
    "period = AFTimeSpan.Parse('2m')  \n",
    "interpolated = pt.InterpolatedValues(timerange, period, \"\", False)"
   ]
  },
  {
   "cell_type": "code",
   "execution_count": 17,
   "metadata": {},
   "outputs": [
    {
     "name": "stdout",
     "output_type": "stream",
     "text": [
      "96.20425 05/08/2019 13:40:51\n",
      "96.20124 05/08/2019 13:42:51\n",
      "96.14037 05/08/2019 13:44:51\n",
      "95.99154 05/08/2019 13:46:51\n",
      "95.96021 05/08/2019 13:48:51\n",
      "95.97535 05/08/2019 13:50:51\n"
     ]
    }
   ],
   "source": [
    "for event in interpolated:\n",
    "    print(event.Value, event.Timestamp.LocalTime) "
   ]
  },
  {
   "cell_type": "markdown",
   "metadata": {},
   "source": [
    "## Ler valores \"sumarizados\" do PI Data Archive"
   ]
  },
  {
   "cell_type": "code",
   "execution_count": 18,
   "metadata": {},
   "outputs": [],
   "source": [
    "averagelist = pt.Summaries(timerange, period, AFSummaryTypes.Average, AFCalculationBasis.TimeWeighted, AFTimestampCalculation.Auto)"
   ]
  },
  {
   "cell_type": "code",
   "execution_count": 19,
   "metadata": {},
   "outputs": [
    {
     "name": "stdout",
     "output_type": "stream",
     "text": [
      "96.20628242532138 05/08/2019 13:40:51\n",
      "96.17599841392419 05/08/2019 13:42:51\n",
      "96.05487077604593 05/08/2019 13:44:51\n",
      "95.96791973349356 05/08/2019 13:46:51\n",
      "95.96864552994622 05/08/2019 13:48:51\n"
     ]
    }
   ],
   "source": [
    "for average in averagelist:\n",
    "    for event in average.Value:\n",
    "        print(event.Value, event.Timestamp.LocalTime) "
   ]
  },
  {
   "cell_type": "code",
   "execution_count": null,
   "metadata": {},
   "outputs": [],
   "source": []
  }
 ],
 "metadata": {
  "kernelspec": {
   "display_name": "Python 3",
   "language": "python",
   "name": "python3"
  },
  "language_info": {
   "codemirror_mode": {
    "name": "ipython",
    "version": 3
   },
   "file_extension": ".py",
   "mimetype": "text/x-python",
   "name": "python",
   "nbconvert_exporter": "python",
   "pygments_lexer": "ipython3",
   "version": "3.6.4"
  }
 },
 "nbformat": 4,
 "nbformat_minor": 2
}
