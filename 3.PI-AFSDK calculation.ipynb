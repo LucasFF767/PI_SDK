{
 "cells": [
  {
   "cell_type": "markdown",
   "metadata": {},
   "source": [
    "#### Por: André S. R. Kuramoto"
   ]
  },
  {
   "cell_type": "markdown",
   "metadata": {},
   "source": [
    "# Exemplo de uso da classe AFCalculation"
   ]
  },
  {
   "cell_type": "markdown",
   "metadata": {},
   "source": [
    "Para iniciar o uso do PI AF SDK, consulte o notebook \"1.PI-AFSDK primeiros passos.ipynb\"."
   ]
  },
  {
   "cell_type": "code",
   "execution_count": 1,
   "metadata": {},
   "outputs": [],
   "source": [
    "import sys  \n",
    "import clr\n",
    "\n",
    "sys.path.append(r'C:\\\\Program Files (x86)\\\\PIPC\\\\AF\\\\PublicAssemblies\\\\4.0\\\\')  \n",
    "clr.AddReference('OSIsoft.AFSDK')  \n",
    "\n",
    "from OSIsoft.AF.PI import *\n",
    "from OSIsoft.AF.Asset import *  \n",
    "from OSIsoft.AF.Data import *  \n",
    "from OSIsoft.AF.Time import * "
   ]
  },
  {
   "cell_type": "markdown",
   "metadata": {},
   "source": [
    "Listar os AF Servers configurados no PI SDK."
   ]
  },
  {
   "cell_type": "code",
   "execution_count": 2,
   "metadata": {},
   "outputs": [],
   "source": [
    "piservers = PIServers()"
   ]
  },
  {
   "cell_type": "code",
   "execution_count": 3,
   "metadata": {},
   "outputs": [
    {
     "name": "stdout",
     "output_type": "stream",
     "text": [
      "p28509\n",
      "p28509A\n",
      "s6005as278\n"
     ]
    }
   ],
   "source": [
    "for s in piservers:\n",
    "    print(s)"
   ]
  },
  {
   "cell_type": "markdown",
   "metadata": {},
   "source": [
    "Escolher o PI Server."
   ]
  },
  {
   "cell_type": "code",
   "execution_count": 4,
   "metadata": {},
   "outputs": [],
   "source": [
    "piserver = piservers['p28509']"
   ]
  },
  {
   "cell_type": "markdown",
   "metadata": {},
   "source": [
    "Utilizar o PI Server padrão."
   ]
  },
  {
   "cell_type": "code",
   "execution_count": 5,
   "metadata": {},
   "outputs": [],
   "source": [
    "piserver = piservers.DefaultPIServer"
   ]
  },
  {
   "cell_type": "code",
   "execution_count": 6,
   "metadata": {},
   "outputs": [],
   "source": [
    "strFilter = str('\\'FI592350\\''+'>120')"
   ]
  },
  {
   "cell_type": "code",
   "execution_count": 7,
   "metadata": {},
   "outputs": [],
   "source": [
    "calcInterval = AFTimeSpan.Parse('1d') # ou AFTimeSpan(0,0,1,0.0,0.0,0.0,0.0)  \n",
    "calcSampleInterval = AFTimeSpan.Parse('1m') # ou AFTimeSpan(0,0,0,0.0,1.0,0.0,0.0)  "
   ]
  },
  {
   "cell_type": "code",
   "execution_count": 8,
   "metadata": {},
   "outputs": [],
   "source": [
    "timerange = AFTimeRange('01/04/2019', '15/04/2019')\n",
    "percentGood = AFValues()\n",
    "results = AFCalculation.PercentTrue(piserver, strFilter, timerange, calcInterval, calcSampleInterval, AFTimestampCalculation.Auto, percentGood); "
   ]
  },
  {
   "cell_type": "code",
   "execution_count": 9,
   "metadata": {},
   "outputs": [
    {
     "name": "stdout",
     "output_type": "stream",
     "text": [
      "Percentual do tempo com 'FI592350'>120 entre os dias 01/04/2019 00:00:00 e 15/04/2019 00:00:00:\n",
      "\n",
      "89,7728842629327 01/04/2019 00:00:00\n",
      "100 02/04/2019 00:00:00\n",
      "37,5018483974315 03/04/2019 00:00:00\n",
      "9,60619907025938 04/04/2019 00:00:00\n",
      "70,0822198832477 05/04/2019 00:00:00\n",
      "78,6000080638462 06/04/2019 00:00:00\n",
      "87,9515752615752 07/04/2019 00:00:00\n",
      "44,3295312810827 08/04/2019 00:00:00\n",
      "77,5003345100968 09/04/2019 00:00:00\n",
      "94,3057337866889 10/04/2019 00:00:00\n",
      "49,2225173844231 11/04/2019 00:00:00\n",
      "73,0895358721415 12/04/2019 00:00:00\n",
      "27,9971689824705 13/04/2019 00:00:00\n",
      "66,179431685695 14/04/2019 00:00:00\n",
      "100 01/04/2019 00:00:00\n",
      "100 02/04/2019 00:00:00\n",
      "100 03/04/2019 00:00:00\n",
      "100 04/04/2019 00:00:00\n",
      "100 05/04/2019 00:00:00\n",
      "100 06/04/2019 00:00:00\n",
      "100 07/04/2019 00:00:00\n",
      "100 08/04/2019 00:00:00\n",
      "100 09/04/2019 00:00:00\n",
      "100 10/04/2019 00:00:00\n",
      "100 11/04/2019 00:00:00\n",
      "100 12/04/2019 00:00:00\n",
      "100 13/04/2019 00:00:00\n",
      "100 14/04/2019 00:00:00\n"
     ]
    }
   ],
   "source": [
    "print('Percentual do tempo com {0} entre os dias {1} e {2}:\\n'.format(strFilter, timerange.StartTime, timerange.EndTime))\n",
    "for item in results:\n",
    "    for v in item:\n",
    "        print(v, v.Timestamp) "
   ]
  }
 ],
 "metadata": {
  "kernelspec": {
   "display_name": "Python 3",
   "language": "python",
   "name": "python3"
  },
  "language_info": {
   "codemirror_mode": {
    "name": "ipython",
    "version": 3
   },
   "file_extension": ".py",
   "mimetype": "text/x-python",
   "name": "python",
   "nbconvert_exporter": "python",
   "pygments_lexer": "ipython3",
   "version": "3.6.4"
  }
 },
 "nbformat": 4,
 "nbformat_minor": 2
}
